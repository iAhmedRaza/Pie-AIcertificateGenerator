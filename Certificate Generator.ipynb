{
 "cells": [
  {
   "cell_type": "code",
   "execution_count": 1,
   "metadata": {},
   "outputs": [
    {
     "name": "stdout",
     "output_type": "stream",
     "text": [
      "Event Name: Intro to MLH\n"
     ]
    }
   ],
   "source": [
    "import os \n",
    "import shutil\n",
    "from PIL import Image, ImageDraw, ImageFont\n",
    "import pandas as pd\n",
    "\n",
    "data = pd.read_csv('event.csv')\n",
    "\n",
    "EventName = input('Event Name: ')\n",
    "\n",
    "fname = 'certificates/'\n",
    "if os.path.exists(fname):\n",
    "    shutil.rmtree(fname)\n",
    "os.mkdir(fname)\n",
    "\n",
    "for name in data['Name']:\n",
    "    im = Image.open(\"Certificate.jpg\")\n",
    "\n",
    "    #Adding customized line\\\n",
    "    d = ImageDraw.Draw(im)\n",
    "    bounding_box = [965, 2497,4405, 2717]\n",
    "    x1, y1, x2, y2 = bounding_box\n",
    "    \n",
    "    Event='For Participating in '+EventName\n",
    "    text_color = (0, 137, 209)\n",
    "    font = ImageFont.truetype(\"./GoogleSans-Regular.ttf\", 140)\n",
    "    w, h = d.textsize(Event, font=font)\n",
    "\n",
    "    x = (x2 - x1 - w)/2 + x1\n",
    "    y = (y2 - y1 - h)/2 + y1\n",
    "\n",
    "    d.text((x,y), Event,align='center', font=font)\n",
    "    #Changing Name\n",
    "    bounding_box = [965, 1713,4405, 2453]\n",
    "    x1, y1, x2, y2 = bounding_box\n",
    "    msg = name\n",
    "    font_size = 530\n",
    "    if len(msg)>12 and len(msg)<15:\n",
    "        font_size=480\n",
    "    elif len(msg)>=15 and len(msg)<17:\n",
    "        font_size=440\n",
    "    elif len(msg)>=17:\n",
    "        font_size=390\n",
    "\n",
    "\n",
    "    text_color = (0, 137, 209)\n",
    "    font = ImageFont.truetype(\"./GoogleSans-Bold.ttf\", font_size)\n",
    "    w, h = d.textsize(msg, font=font)\n",
    "\n",
    "    x = (x2 - x1 - w)/2 + x1\n",
    "    y = (y2 - y1 - h)/2 + y1\n",
    "\n",
    "    d.text((x,y), msg,align='center', font=font)\n",
    "\n",
    "    #SIgnature\n",
    "    sx1,sy1,sx2,sy2 = [1713,2749,3501,3285]\n",
    "    sign = \"Ahmed\"\n",
    "    font_path = './Almondita.ttf'\n",
    "    signature = ImageFont.truetype(font_path, 550)\n",
    "    sw, sh = d.textsize(sign, font=signature)\n",
    "\n",
    "\n",
    "    sx = (sx2 - sx1 - sw)/2 + sx1\n",
    "    sy = (sy2 - sy1 - sh)/2 + sy1\n",
    "    d.text((sx,sy), sign,align='center', font=signature)\n",
    "\n",
    "    #date:\n",
    "    from datetime import datetime\n",
    "    currentDate = str(datetime.date(datetime.now()))\n",
    "    dx1,dy1,dx2,dy2 = [3945,3724,4837,3708]\n",
    "    dateFont = ImageFont.truetype(\"./GoogleSans-Regular.ttf\", 120)\n",
    "    dw, dh = d.textsize(currentDate, font=dateFont)\n",
    "\n",
    "    dx = (dx2 - dx1 - dw)/2 + dx1\n",
    "    dy = (dy2 - dx1 - dh)/2 + dy1\n",
    "    d.text((dx,dy), currentDate,align='center', font=dateFont)\n",
    "\n",
    "\n",
    "    im.save('./certificates/certificate_'+name+'.jpg')\n"
   ]
  },
  {
   "cell_type": "code",
   "execution_count": null,
   "metadata": {},
   "outputs": [],
   "source": []
  }
 ],
 "metadata": {
  "kernelspec": {
   "display_name": "Python 3",
   "language": "python",
   "name": "python3"
  },
  "language_info": {
   "codemirror_mode": {
    "name": "ipython",
    "version": 3
   },
   "file_extension": ".py",
   "mimetype": "text/x-python",
   "name": "python",
   "nbconvert_exporter": "python",
   "pygments_lexer": "ipython3",
   "version": "3.7.3"
  }
 },
 "nbformat": 4,
 "nbformat_minor": 4
}
